{
 "cells": [
  {
   "cell_type": "code",
   "execution_count": 4,
   "id": "ebe3a0c3-f019-40b6-91d4-3183c2686529",
   "metadata": {},
   "outputs": [],
   "source": [
    "import numpy as np \n",
    "import pandas as pd\n",
    "import matplotlib.pyplot as py\n",
    "import seaborn as sns\n",
    "from sklearn import svm\n",
    "from sklearn.model_selection import train_test_split\n",
    "from sklearn import  metrics"
   ]
  },
  {
   "cell_type": "code",
   "execution_count": 5,
   "id": "0ea16f06-ca29-4fa9-8aa3-5aaa9ef63a4b",
   "metadata": {},
   "outputs": [],
   "source": [
    "loan_data=pd.read_csv(r\"C:\\Users\\sjain\\Desktop\\python\\LOAN_APPROVAL_PREDICTOR\\notebook\\data\\Copy of loan - loan.csv\")"
   ]
  },
  {
   "cell_type": "code",
   "execution_count": 6,
   "id": "a3bf55a8-517a-43c4-86bf-1e5b5ad5bd5e",
   "metadata": {},
   "outputs": [],
   "source": [
    "loan_data=loan_data.dropna()"
   ]
  },
  {
   "cell_type": "code",
   "execution_count": 7,
   "id": "df8ea194-0bf9-4d35-b120-c61249c8a533",
   "metadata": {},
   "outputs": [],
   "source": [
    "#LABEL ENCODING\n",
    "loan_data.replace({'Loan_Status':{'Y':1 , 'N':0}},inplace=True)"
   ]
  },
  {
   "cell_type": "code",
   "execution_count": 8,
   "id": "6b640764-aa3d-4583-9e9e-52c530abad4b",
   "metadata": {},
   "outputs": [],
   "source": [
    "# 3+ -----> 4\n",
    "#LABEL ENCODING\n",
    "loan_data.replace({'Dependents':{'3+':4 }},inplace=True)"
   ]
  },
  {
   "cell_type": "code",
   "execution_count": 9,
   "id": "3f113629-23e6-414a-a702-ba1eec2def6a",
   "metadata": {},
   "outputs": [],
   "source": [
    "loan_data.replace({'Married':{'No':0,'Yes':1},'Gender':{'Male':1,'Female':0},'Self_Employed':{'No':0,'Yes':1},\n",
    "                      'Property_Area':{'Rural':0,'Semiurban':1,'Urban':2},'Education':{'Graduate':1,'Not Graduate':0}},inplace=True)"
   ]
  },
  {
   "cell_type": "markdown",
   "id": "22698bbf-33c8-4e5c-9459-2ed9e80add15",
   "metadata": {},
   "source": [
    "# TRAIN TEST SPLIT"
   ]
  },
  {
   "cell_type": "code",
   "execution_count": 10,
   "id": "4fe476a4-ef84-4473-8cb8-d3fed30df56c",
   "metadata": {},
   "outputs": [],
   "source": [
    "X_train,X_test,Y_train,Y_test=train_test_split(loan_data.drop(columns=['Loan_ID','Loan_Status'],axis=1) , loan_data['Loan_Status'] , test_size=0.1, random_state=43)"
   ]
  },
  {
   "cell_type": "markdown",
   "id": "49e0dfa0-2416-4800-8dfe-b3a198c24875",
   "metadata": {},
   "source": [
    "# SUPPORT VECTOR MACHINE MODEL TRAINING"
   ]
  },
  {
   "cell_type": "code",
   "execution_count": 11,
   "id": "887a40d2-c5e9-4779-8bc2-77b973e3fdd3",
   "metadata": {},
   "outputs": [],
   "source": [
    "model=svm.SVC(kernel='linear')"
   ]
  },
  {
   "cell_type": "code",
   "execution_count": null,
   "id": "1124f424-2b19-4e1e-a092-f317f78c87cd",
   "metadata": {},
   "outputs": [],
   "source": [
    "model.fit(X_train,Y_train)"
   ]
  },
  {
   "cell_type": "code",
   "execution_count": 14,
   "id": "1ef04adf-88b7-41fc-aa2a-5d5a302829cc",
   "metadata": {},
   "outputs": [
    {
     "name": "stdout",
     "output_type": "stream",
     "text": [
      "0.8078703703703703\n"
     ]
    }
   ],
   "source": [
    "from sklearn.metrics import accuracy_score\n",
    "X_train_pred=model.predict(X_train)\n",
    "print(accuracy_score(Y_train,X_train_pred))"
   ]
  },
  {
   "cell_type": "code",
   "execution_count": 15,
   "id": "c7d164c3-09bb-4adb-b62a-dc81844d5c56",
   "metadata": {},
   "outputs": [
    {
     "name": "stdout",
     "output_type": "stream",
     "text": [
      "THE ACCURACY SCORE OF TEST DATA: 0.8125\n"
     ]
    }
   ],
   "source": [
    "X_test_pred=model.predict(X_test)\n",
    "print('THE ACCURACY SCORE OF TEST DATA:',accuracy_score(Y_test,X_test_pred))"
   ]
  },
  {
   "cell_type": "code",
   "execution_count": null,
   "id": "7c055e1d-a809-4824-bf85-994201b9ba8a",
   "metadata": {},
   "outputs": [],
   "source": []
  }
 ],
 "metadata": {
  "kernelspec": {
   "display_name": "Python 3 (ipykernel)",
   "language": "python",
   "name": "python3"
  },
  "language_info": {
   "codemirror_mode": {
    "name": "ipython",
    "version": 3
   },
   "file_extension": ".py",
   "mimetype": "text/x-python",
   "name": "python",
   "nbconvert_exporter": "python",
   "pygments_lexer": "ipython3",
   "version": "3.11.4"
  }
 },
 "nbformat": 4,
 "nbformat_minor": 5
}
